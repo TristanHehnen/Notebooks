{
 "cells": [
  {
   "cell_type": "markdown",
   "metadata": {},
   "source": [
    "# ParaChangeFDS\n",
    "\n",
    "## Idea\n",
    "\n",
    "This notebook is an attempt to create an interface that allows for easy manipulation of parameters in FDS input files, executing the simulation and retrieving the results. As a general concept, there should be an FDS input file template, that describes the scenario in question.\n",
    "\n",
    "Parameter values should be able to be defined within this notebook. A copy of the template should be created, as well as an appropriate sub-directory. The copy of the template is then written into the new directory, with the placeholders exchanged to parameter values. A process should be started that executes FDS automatically. After completion, the desired results are to be read into the notebook to be processes as desired.\n",
    "\n",
    "Focus is set on simulations with a short calculation duration."
   ]
  },
  {
   "cell_type": "code",
   "execution_count": 1,
   "metadata": {},
   "outputs": [],
   "source": [
    "import pandas as pd\n",
    "import numpy as np\n",
    "import seaborn as sns\n",
    "import matplotlib.pyplot as plt\n"
   ]
  },
  {
   "cell_type": "code",
   "execution_count": null,
   "metadata": {},
   "outputs": [],
   "source": []
  }
 ],
 "metadata": {
  "kernelspec": {
   "display_name": "Python 3",
   "language": "python",
   "name": "python3"
  },
  "language_info": {
   "codemirror_mode": {
    "name": "ipython",
    "version": 3
   },
   "file_extension": ".py",
   "mimetype": "text/x-python",
   "name": "python",
   "nbconvert_exporter": "python",
   "pygments_lexer": "ipython3",
   "version": "3.6.4"
  }
 },
 "nbformat": 4,
 "nbformat_minor": 2
}
