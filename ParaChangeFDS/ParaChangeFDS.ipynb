{
 "cells": [
  {
   "cell_type": "markdown",
   "metadata": {},
   "source": [
    "# ParaChangeFDS\n",
    "\n",
    "## Idea\n",
    "\n",
    "This notebook is an attempt to create an interface that allows for easy manipulation of parameters in Fire Dynamics Simulator FDS input files, executing the simulation and retrieving the results. As a general concept, there should be an FDS input file template, that describes the scenario in question.\n",
    "\n",
    "Parameter values should be able to be defined within this notebook. A copy of the template should be created, as well as an appropriate sub-directory. The copy of the template is then written into the new directory, with the placeholders exchanged to parameter values. A process should be started that executes FDS automatically. After completion, the desired results are to be read into the notebook to be processes as desired.\n",
    "\n",
    "Focus is set on simulations with a short calculation duration."
   ]
  },
  {
   "cell_type": "code",
   "execution_count": 5,
   "metadata": {},
   "outputs": [],
   "source": [
    "import os\n",
    "\n",
    "import pandas as pd\n",
    "import numpy as np\n",
    "import seaborn as sns\n",
    "import matplotlib.pyplot as plt"
   ]
  },
  {
   "cell_type": "code",
   "execution_count": 48,
   "metadata": {},
   "outputs": [],
   "source": [
    "parameters = [['chid', 'tga_analysis'],\n",
    "              ['tend', 60.],\n",
    "              ['ref_temp_comp_1', 315.],\n",
    "              ['ref_temp_comp_2', '430.']]\n",
    "\n",
    "def exchange_placeholder(file, parameters):\n",
    "    new_file_content = []\n",
    "    with open(file, 'r') as f:\n",
    "        for line in f:\n",
    "            for parameter in parameters:\n",
    "                ph = '#{}#'.format(parameter[0])\n",
    "                if ph in line:\n",
    "                    line = line.replace(ph, str(parameter[1]))\n",
    "                    print(line)\n",
    "        \n",
    "            new_file_content.append(line)\n",
    "    return new_file_content"
   ]
  },
  {
   "cell_type": "code",
   "execution_count": 51,
   "metadata": {},
   "outputs": [
    {
     "name": "stdout",
     "output_type": "stream",
     "text": [
      "&HEAD CHID=tga_analysis, TITLE='TGA tutorial' / \n",
      "\n",
      "&TIME T_END=60.0 /\n",
      "\n",
      "      REFERENCE_TEMPERATURE = 315.0\n",
      "\n",
      "      REFERENCE_TEMPERATURE = 430.\n",
      "\n",
      "[\"&HEAD CHID=tga_analysis, TITLE='TGA tutorial' / \\n\", '\\n', '&MESH IJK=3,1,4, XB=-2,2,-0.5,0.5,0,1 / \\n', '\\n', '&TIME T_END=60.0 /\\n', '\\n', \"&REAC FUEL='CELLULOSE', C=6, H=10, O=5, SOOT_YIELD=0.015 /\\n\", \"&SPEC ID='WATER VAPOR' /\\n\", '\\n', \"&VENT XB=-1,1,-0.5,0.5,0.0,0.0, SURF_ID='SAMPLE' /\\n\", '\\n', \"&SURF ID             = 'SAMPLE'\\n\", '      TGA_ANALYSIS   = .TRUE.\\n', \"      COLOR          = 'RED'\\n\", '      THICKNESS      = 0.01\\n', \"      MATL_ID(1,1) = 'component 1'\\n\", \"      MATL_ID(1,2) = 'water'\\n\", '      MATL_MASS_FRACTION(1,1) = 0.90\\n', '      MATL_MASS_FRACTION(1,2) = 0.10 /\\n', '\\n', \"&MATL ID                    = 'component 1'\\n\", '      EMISSIVITY            = 1.0\\n', '      DENSITY \\t            = 500.\\n', '      CONDUCTIVITY          = 0.20\\n', '      SPECIFIC_HEAT         = 1.0 \\n', '      N_REACTIONS           = 1\\n', '      REFERENCE_TEMPERATURE = 315.0\\n', '      REFERENCE_RATE        = 0.0056\\n', '      HEATING_RATE          = 10.\\n', '      NU_SPEC \\t            = 0.60\\n', \"      SPEC_ID               = 'CELLULOSE'\\n\", '      NU_MATL               = 0.40\\n', \"      MATL_ID               = 'component 2'\\n\", '      HEAT_OF_REACTION      = 1000. /  \\n', '\\n', \"&MATL ID                    = 'component 2'\\n\", '      EMISSIVITY            = 1.0\\n', '      DENSITY \\t            = 500.\\n', '      CONDUCTIVITY          = 0.20\\n', '      SPECIFIC_HEAT         = 1.0 \\n', '      N_REACTIONS           = 1\\n', '      REFERENCE_TEMPERATURE = 430.\\n', '      REFERENCE_RATE        = 0.0075\\n', '      HEATING_RATE          = 10.\\n', '      NU_SPEC \\t            = 0.85\\n', \"      SPEC_ID               = 'CELLULOSE'\\n\", '      NU_MATL               = 0.15\\n', \"      MATL_ID               = 'residue'\\n\", '      HEAT_OF_REACTION      = 1000. /\\n', '\\n', \"&MATL ID = 'water'\\n\", '      DENSITY = 1000.\\n', '      CONDUCTIVITY = 0.1\\n', '      SPECIFIC_HEAT= 4.184\\n', '      N_REACTIONS = 1\\n', '      REFERENCE_TEMPERATURE = 100.\\n', '      REFERENCE_RATE = 0.0016\\n', '      HEATING_RATE = 10.\\n', '      NU_SPEC = 1.0\\n', \"      SPEC_ID = 'WATER VAPOR'\\n\", '      HEAT_OF_REACTION= 2500. /\\n', '\\n', \"&MATL ID                    = 'residue'\\n\", '      DENSITY               = 200.\\n', '      CONDUCTIVITY          = 0.20\\n', '      SPECIFIC_HEAT         = 1.0 /\\n', '\\n', '&TAIL /\\n']\n"
     ]
    }
   ],
   "source": [
    "p = os.path.join('Example', 'template.fds')\n",
    "a = exchange_placeholder(p, parameters)\n",
    "print(a)\n",
    "\n",
    "np = os.path.join('Example', '{}.fds'.format(parameters[0][1]))\n",
    "with open(np, 'w') as f:\n",
    "    for line in a:\n",
    "        f.write(line) "
   ]
  },
  {
   "cell_type": "code",
   "execution_count": 39,
   "metadata": {},
   "outputs": [
    {
     "name": "stdout",
     "output_type": "stream",
     "text": [
      "&HEAD CHID=tga_analysis, TITLE='TGA tutorial' /\n",
      "&HEAD CHID=tga_analysis, TITLE='TGA tutorial' /\n"
     ]
    }
   ],
   "source": [
    "b = [\"&HEAD CHID=#chid#, TITLE='TGA tutorial' /\", \n",
    "     \"&HEAD CHID=#chid#, TITLE='TGA tutorial' /\"] \n",
    "c = '#chid#'\n",
    "d = 'tga_analysis'\n",
    "\n",
    "for i in b:\n",
    "    print(i.replace(c, d))\n"
   ]
  },
  {
   "cell_type": "code",
   "execution_count": null,
   "metadata": {},
   "outputs": [],
   "source": []
  },
  {
   "cell_type": "code",
   "execution_count": null,
   "metadata": {},
   "outputs": [],
   "source": []
  },
  {
   "cell_type": "code",
   "execution_count": null,
   "metadata": {},
   "outputs": [],
   "source": []
  },
  {
   "cell_type": "code",
   "execution_count": null,
   "metadata": {},
   "outputs": [],
   "source": []
  },
  {
   "cell_type": "code",
   "execution_count": null,
   "metadata": {},
   "outputs": [],
   "source": []
  },
  {
   "cell_type": "code",
   "execution_count": null,
   "metadata": {},
   "outputs": [],
   "source": []
  },
  {
   "cell_type": "code",
   "execution_count": null,
   "metadata": {},
   "outputs": [],
   "source": []
  },
  {
   "cell_type": "code",
   "execution_count": null,
   "metadata": {},
   "outputs": [],
   "source": []
  },
  {
   "cell_type": "code",
   "execution_count": null,
   "metadata": {},
   "outputs": [],
   "source": []
  },
  {
   "cell_type": "code",
   "execution_count": null,
   "metadata": {},
   "outputs": [],
   "source": []
  }
 ],
 "metadata": {
  "kernelspec": {
   "display_name": "Python 3",
   "language": "python",
   "name": "python3"
  },
  "language_info": {
   "codemirror_mode": {
    "name": "ipython",
    "version": 3
   },
   "file_extension": ".py",
   "mimetype": "text/x-python",
   "name": "python",
   "nbconvert_exporter": "python",
   "pygments_lexer": "ipython3",
   "version": "3.6.4"
  }
 },
 "nbformat": 4,
 "nbformat_minor": 2
}
