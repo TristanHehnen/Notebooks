{
 "cells": [
  {
   "cell_type": "markdown",
   "metadata": {},
   "source": [
    "# ParaChangeFDS\n",
    "\n",
    "## Idea\n",
    "\n",
    "This notebook is an attempt to create an interface that allows for easy manipulation of parameters in Fire Dynamics Simulator FDS input files, executing the simulation and retrieving the results. As a general concept, there should be an FDS input file template, that describes the scenario in question.\n",
    "\n",
    "Parameter values should be able to be defined within this notebook. A copy of the template should be created, as well as an appropriate sub-directory. The copy of the template is then written into the new directory, with the placeholders exchanged to parameter values. A process should be started that executes FDS automatically. After completion, the desired results are to be read into the notebook to be processes as desired.\n",
    "\n",
    "Focus is set on simulations with a short calculation duration."
   ]
  },
  {
   "cell_type": "code",
   "execution_count": 1,
   "metadata": {},
   "outputs": [],
   "source": [
    "import os\n",
    "import subprocess\n",
    "\n",
    "import pandas as pd\n",
    "import numpy as np\n",
    "import seaborn as sns\n",
    "import matplotlib.pyplot as plt\n",
    "\n",
    "sns.set(style=\"darkgrid\")\n",
    "%matplotlib inline"
   ]
  },
  {
   "cell_type": "code",
   "execution_count": 2,
   "metadata": {},
   "outputs": [],
   "source": [
    "def exchange_placeholder(file, parameters):\n",
    "    new_file_content = []\n",
    "    with open(file, 'r') as f:\n",
    "        for line in f:\n",
    "            for parameter in parameters:\n",
    "                ph = '#{}#'.format(parameter[0])\n",
    "                if ph in line:\n",
    "                    line = line.replace(ph, str(parameter[1]))\n",
    "                    print(line)\n",
    "        \n",
    "            new_file_content.append(line)\n",
    "    return new_file_content\n",
    "\n",
    "\n",
    "def save_file(file_name, content, path, ending='fds'):\n",
    "    if not os.path.isdir(path):\n",
    "        os.makedirs(path)\n",
    "        print(\"* New directory '{}' created.\".format(path))\n",
    "\n",
    "    else:\n",
    "        print(\"* Directory '{}' already exists.\".format(path))\n",
    "    \n",
    "    dir_list = next(os.walk(path))[1]\n",
    "    counter = 0\n",
    "    for directory in dir_list:\n",
    "        counter += 1\n",
    "\n",
    "    new_dir = os.path.join(path, file_name +'_'+ str(counter + 1))\n",
    "    os.makedirs(new_dir)\n",
    "    print(\"* New sub-directory '{}' created.\".format(new_dir))\n",
    "    \n",
    "    np = os.path.join(new_dir, '{}_{}.{}'.format(file_name, counter+1, \n",
    "                                                 ending))\n",
    "\n",
    "    with open(np, 'w') as f:\n",
    "        for line in content:\n",
    "            f.write(line) \n",
    "    \n",
    "    return np\n",
    "\n",
    "\n",
    "def run_job(file_path):\n",
    "    cwd = os.getcwd()\n",
    "    print(os.path.split(file_path))\n",
    "    wd, fn = os.path.split(file_path)\n",
    "    os.chdir(wd)\n",
    "    subprocess.call(\"fds {}\".format(fn), \n",
    "                    shell=True)  \n",
    "    os.chdir(cwd)"
   ]
  },
  {
   "cell_type": "code",
   "execution_count": 3,
   "metadata": {},
   "outputs": [
    {
     "name": "stdout",
     "output_type": "stream",
     "text": [
      "D:\\Git\\Notebooks\\ParaChangeFDS\n"
     ]
    }
   ],
   "source": [
    "print(os.getcwd())"
   ]
  },
  {
   "cell_type": "code",
   "execution_count": 4,
   "metadata": {},
   "outputs": [],
   "source": [
    "# Define the example parameters.\n",
    "parameters = [['chid', 'tga_analysis'],\n",
    "              ['tend', 60.],\n",
    "              ['ref_temp_comp_1', 315.],\n",
    "              ['ref_temp_comp_2', '430.']]\n",
    "\n",
    "\n",
    "# Define the location of the simulation inout template.\n",
    "template = os.path.join('Example', 'template.fds')"
   ]
  },
  {
   "cell_type": "code",
   "execution_count": 5,
   "metadata": {},
   "outputs": [
    {
     "name": "stdout",
     "output_type": "stream",
     "text": [
      "&HEAD CHID=tga_analysis, TITLE='TGA tutorial' / \n",
      "\n",
      "&TIME T_END=60.0 /\n",
      "\n",
      "      REFERENCE_TEMPERATURE = 315.0\n",
      "\n",
      "      REFERENCE_TEMPERATURE = 430.\n",
      "\n",
      "* New directory 'TestDir' created.\n",
      "* New sub-directory 'TestDir\\tga_analysis_1' created.\n",
      "('TestDir\\\\tga_analysis_1', 'tga_analysis_1.fds')\n"
     ]
    },
    {
     "data": {
      "text/html": [
       "<div>\n",
       "<style scoped>\n",
       "    .dataframe tbody tr th:only-of-type {\n",
       "        vertical-align: middle;\n",
       "    }\n",
       "\n",
       "    .dataframe tbody tr th {\n",
       "        vertical-align: top;\n",
       "    }\n",
       "\n",
       "    .dataframe thead th {\n",
       "        text-align: right;\n",
       "    }\n",
       "</style>\n",
       "<table border=\"1\" class=\"dataframe\">\n",
       "  <thead>\n",
       "    <tr style=\"text-align: right;\">\n",
       "      <th></th>\n",
       "      <th>Time</th>\n",
       "      <th>Temp</th>\n",
       "      <th>Mass</th>\n",
       "      <th>MLR</th>\n",
       "      <th>MCC</th>\n",
       "      <th>DSC</th>\n",
       "    </tr>\n",
       "  </thead>\n",
       "  <tbody>\n",
       "    <tr>\n",
       "      <th>0</th>\n",
       "      <td>12.0</td>\n",
       "      <td>21.000317</td>\n",
       "      <td>0.999627</td>\n",
       "      <td>0.000032</td>\n",
       "      <td>5.924180e-22</td>\n",
       "      <td>0.189221</td>\n",
       "    </tr>\n",
       "    <tr>\n",
       "      <th>1</th>\n",
       "      <td>24.0</td>\n",
       "      <td>22.000315</td>\n",
       "      <td>0.999239</td>\n",
       "      <td>0.000033</td>\n",
       "      <td>8.524605e-22</td>\n",
       "      <td>0.192155</td>\n",
       "    </tr>\n",
       "    <tr>\n",
       "      <th>2</th>\n",
       "      <td>36.0</td>\n",
       "      <td>23.000315</td>\n",
       "      <td>0.998837</td>\n",
       "      <td>0.000034</td>\n",
       "      <td>1.223638e-21</td>\n",
       "      <td>0.195164</td>\n",
       "    </tr>\n",
       "    <tr>\n",
       "      <th>3</th>\n",
       "      <td>48.0</td>\n",
       "      <td>24.000313</td>\n",
       "      <td>0.998419</td>\n",
       "      <td>0.000035</td>\n",
       "      <td>1.752165e-21</td>\n",
       "      <td>0.198248</td>\n",
       "    </tr>\n",
       "    <tr>\n",
       "      <th>4</th>\n",
       "      <td>60.0</td>\n",
       "      <td>25.000311</td>\n",
       "      <td>0.997985</td>\n",
       "      <td>0.000037</td>\n",
       "      <td>2.502944e-21</td>\n",
       "      <td>0.201406</td>\n",
       "    </tr>\n",
       "  </tbody>\n",
       "</table>\n",
       "</div>"
      ],
      "text/plain": [
       "   Time       Temp      Mass       MLR           MCC       DSC\n",
       "0  12.0  21.000317  0.999627  0.000032  5.924180e-22  0.189221\n",
       "1  24.0  22.000315  0.999239  0.000033  8.524605e-22  0.192155\n",
       "2  36.0  23.000315  0.998837  0.000034  1.223638e-21  0.195164\n",
       "3  48.0  24.000313  0.998419  0.000035  1.752165e-21  0.198248\n",
       "4  60.0  25.000311  0.997985  0.000037  2.502944e-21  0.201406"
      ]
     },
     "execution_count": 5,
     "metadata": {},
     "output_type": "execute_result"
    }
   ],
   "source": [
    "a = exchange_placeholder(template, parameters)\n",
    "nf = save_file(parameters[0][1], a, 'TestDir')\n",
    "run_job(nf)\n",
    "\n",
    "data_label = \"_tga.csv\"\n",
    "data_file = \"{}{}\".format(nf[:-6], data_label)\n",
    "data_sim = pd.read_csv(data_file, header=1)\n",
    "data_sim.head()"
   ]
  },
  {
   "cell_type": "code",
   "execution_count": 6,
   "metadata": {},
   "outputs": [
    {
     "name": "stderr",
     "output_type": "stream",
     "text": [
      "C:\\Anaconda3\\lib\\site-packages\\seaborn\\axisgrid.py:2065: UserWarning: The `size` parameter has been renamed to `height`; pleaes update your code.\n",
      "  warnings.warn(msg, UserWarning)\n"
     ]
    },
    {
     "data": {
      "text/plain": [
       "<seaborn.axisgrid.PairGrid at 0x193f1d6d358>"
      ]
     },
     "execution_count": 6,
     "metadata": {},
     "output_type": "execute_result"
    },
    {
     "data": {
      "image/png": "[encoded data removed]",
      "text/plain": [
       "<matplotlib.figure.Figure at 0x193ebc9e358>"
      ]
     },
     "metadata": {},
     "output_type": "display_data"
    }
   ],
   "source": [
    "sns.pairplot(data_sim, x_vars=['Time'], y_vars=['Mass'], \n",
    "             size=7, aspect=2)\n",
    "# sns.lineplot(data=data_sim, x='Time', y='Mass', kind=\"line\", size=7, aspect=2)"
   ]
  },
  {
   "cell_type": "markdown",
   "metadata": {},
   "source": [
    "# Cell Input Template\n",
    "\n",
    "The above code was copied below. Copy it to new cells below, provide some input and enjoy the results."
   ]
  },
  {
   "cell_type": "code",
   "execution_count": null,
   "metadata": {},
   "outputs": [],
   "source": [
    "a = exchange_placeholder()\n",
    "some_dir = 'SomeDir'\n",
    "\n",
    "nf = save_file(parameters[0][1], a, some_dir)\n",
    "run_job(nf)\n",
    "\n",
    "data_label = \"_tga.csv\"\n",
    "data_file = \"{}{}\".format(nf[:-6], data_label)\n",
    "data_sim = pd.read_csv(data_file, header=1)\n",
    "data_sim.head()\n"
   ]
  },
  {
   "cell_type": "code",
   "execution_count": null,
   "metadata": {},
   "outputs": [],
   "source": [
    "sns.pairplot(data_sim, x_vars=['Time'], y_vars=['Mass'], \n",
    "             size=7, aspect=2)\n",
    "# sns.lineplot(data=data_sim, x='Time', y='Mass', kind=\"line\", size=7, aspect=2)"
   ]
  },
  {
   "cell_type": "markdown",
   "metadata": {},
   "source": [
    "# Start Here with Your Own"
   ]
  },
  {
   "cell_type": "code",
   "execution_count": null,
   "metadata": {},
   "outputs": [],
   "source": []
  },
  {
   "cell_type": "code",
   "execution_count": null,
   "metadata": {},
   "outputs": [],
   "source": []
  },
  {
   "cell_type": "code",
   "execution_count": null,
   "metadata": {},
   "outputs": [],
   "source": []
  },
  {
   "cell_type": "code",
   "execution_count": null,
   "metadata": {},
   "outputs": [],
   "source": []
  },
  {
   "cell_type": "code",
   "execution_count": null,
   "metadata": {},
   "outputs": [],
   "source": []
  },
  {
   "cell_type": "code",
   "execution_count": null,
   "metadata": {},
   "outputs": [],
   "source": []
  }
 ],
 "metadata": {
  "kernelspec": {
   "display_name": "Python 3",
   "language": "python",
   "name": "python3"
  },
  "language_info": {
   "codemirror_mode": {
    "name": "ipython",
    "version": 3
   },
   "file_extension": ".py",
   "mimetype": "text/x-python",
   "name": "python",
   "nbconvert_exporter": "python",
   "pygments_lexer": "ipython3",
   "version": "3.6.4"
  }
 },
 "nbformat": 4,
 "nbformat_minor": 2
}
